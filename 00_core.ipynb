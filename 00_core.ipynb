{
 "cells": [
  {
   "cell_type": "code",
   "execution_count": 1,
   "metadata": {},
   "outputs": [],
   "source": [
    "# default_exp core"
   ]
  },
  {
   "cell_type": "markdown",
   "metadata": {},
   "source": [
    "# core\n",
    "\n",
    "> Core Functionality for spaCy Data Debug that helps clean annotated NER data. All functions assume you have data in the Prodigy annotation format. For example:\n",
    "```json\n",
    "{\n",
    "    \"text\":\"The 300-year-old restored building attracts thousands of visitors every year.\",\n",
    "    \"spans\":[\n",
    "        {\n",
    "            \"text\":\"300-year-old\",\n",
    "            \"start\":4,\n",
    "            \"end\":16,\n",
    "            \"label\":\"AGE\"\n",
    "        },\n",
    "        {\n",
    "            \"text\":\"building\",\n",
    "            \"start\":26,\n",
    "            \"end\":34,\n",
    "            \"label\":\"LOCATION\"\n",
    "        },\n",
    "        {\n",
    "            \"text\":\"visitor\",\n",
    "            \"start\":57,\n",
    "            \"end\":64,\n",
    "            \"label\":\"PERSONTYPE\"\n",
    "        },\n",
    "        {\n",
    "            \"text\":\"every year\",\n",
    "            \"start\":66,\n",
    "            \"end\":76,\n",
    "            \"label\":\"SET\"\n",
    "        }\n",
    "    ],\n",
    "    \"meta\":{\n",
    "        \"source\":\"Cognitive Services Training Set\"\n",
    "    },\n",
    "    \"answer\":\"accept\"\n",
    "}\n",
    "```"
   ]
  },
  {
   "cell_type": "code",
   "execution_count": 2,
   "metadata": {},
   "outputs": [],
   "source": [
    "#hide\n",
    "from nbdev.showdoc import *"
   ]
  },
  {
   "cell_type": "code",
   "execution_count": 3,
   "metadata": {},
   "outputs": [],
   "source": [
    "#export\n",
    "from collections import defaultdict\n",
    "import copy\n",
    "import json\n",
    "from pathlib import Path\n",
    "from typing import Dict, List\n",
    "\n",
    "import srsly\n",
    "import spacy\n",
    "from spacy.pipeline import EntityRuler\n",
    "from spacy.language import Language"
   ]
  },
  {
   "cell_type": "code",
   "execution_count": 4,
   "metadata": {},
   "outputs": [],
   "source": [
    "#export\n",
    "def fix_annotations_format(data): \n",
    "    for e in data:\n",
    "        if 'meta' not in e:\n",
    "            e['meta'] = {}\n",
    "        if isinstance(e['meta'], list):\n",
    "            e['meta'] = {\n",
    "                'source': e['meta']\n",
    "            }\n",
    "\n",
    "        for s in e['spans']:\n",
    "            if 'text' not in s:\n",
    "                s['text'] = e['text'][s['start']:s['end']]\n",
    "            s['label'] = s['label'].upper()\n",
    "    return data"
   ]
  },
  {
   "cell_type": "code",
   "execution_count": 5,
   "metadata": {},
   "outputs": [],
   "source": [
    "train = list(srsly.read_jsonl(\"../CognitiveServices/API-TextAnalytics-NER.CloudServices/data/2020-01-23/cs_train.jsonl\"))\n",
    "dev = list(srsly.read_jsonl(\"../CognitiveServices/API-TextAnalytics-NER.CloudServices/data/2020-01-23/cs_dev.jsonl\"))\n",
    "test = list(srsly.read_jsonl(\"../CognitiveServices/API-TextAnalytics-NER.CloudServices/data/2020-01-23/cs_test.jsonl\"))"
   ]
  },
  {
   "cell_type": "code",
   "execution_count": 6,
   "metadata": {},
   "outputs": [],
   "source": [
    "train = fix_annotations_format(train)\n",
    "dev = fix_annotations_format(dev)\n",
    "test = fix_annotations_format(test)"
   ]
  },
  {
   "cell_type": "code",
   "execution_count": 7,
   "metadata": {},
   "outputs": [],
   "source": [
    "#export \n",
    "def dataset_stats(data: List[Dict[str, object]], serialize=False):\n",
    "    labels = defaultdict(int)\n",
    "    examples = defaultdict(list)\n",
    "    n_examples_no_entities = 0\n",
    "    for e in data:\n",
    "        if not e['spans']:\n",
    "            n_examples_no_entities += 1\n",
    "            examples['NONE'].append(e)\n",
    "        else:\n",
    "            for s in e['spans']:\n",
    "                label = s['label']\n",
    "                labels[label] += 1\n",
    "                examples[label].append(e)\n",
    "                 \n",
    "    res = {\n",
    "        'n_examples': len(data),\n",
    "        'n_examples_no_entities': n_examples_no_entities,\n",
    "        'ents_per_type': labels\n",
    "    }\n",
    "    if serialize:\n",
    "        return srsly.json_dumps(res, indent=4)\n",
    "    else:\n",
    "        res['examples_with_type'] = examples\n",
    "        return res"
   ]
  },
  {
   "cell_type": "code",
   "execution_count": 8,
   "metadata": {},
   "outputs": [
    {
     "name": "stdout",
     "output_type": "stream",
     "text": [
      "{\n",
      "    \"n_examples\":10000,\n",
      "    \"n_examples_no_entities\":2083,\n",
      "    \"ents_per_type\":{\n",
      "        \"PERSON\":2203,\n",
      "        \"AGE\":83,\n",
      "        \"GPE\":2543,\n",
      "        \"NUMBER\":1497,\n",
      "        \"PERSONTYPE\":4511,\n",
      "        \"ORGANIZATION\":3327,\n",
      "        \"LOCATION\":1908,\n",
      "        \"DATERANGE\":1187,\n",
      "        \"PERCENTAGE\":385,\n",
      "        \"NUM_RANGE\":41,\n",
      "        \"DURATION\":584,\n",
      "        \"EVENT\":1493,\n",
      "        \"CURRENCY\":305,\n",
      "        \"DATE\":287,\n",
      "        \"PRODUCT\":3446,\n",
      "        \"ADDRESS\":27,\n",
      "        \"TIMERANGE\":54,\n",
      "        \"SET\":145,\n",
      "        \"TIME\":14,\n",
      "        \"DATETIMERANGE\":11\n",
      "    }\n",
      "}\n"
     ]
    }
   ],
   "source": [
    "print(dataset_stats(test, serialize=True))"
   ]
  },
  {
   "cell_type": "code",
   "execution_count": 9,
   "metadata": {},
   "outputs": [
    {
     "name": "stdout",
     "output_type": "stream",
     "text": [
      "7074 Examples with a PERSON label.\n",
      "Examples with Label\n",
      "EVENT: 1565\n",
      "PERSON: 7074\n",
      "GPE: 6959\n",
      "LOCATION: 4062\n",
      "PERSONTYPE: 5246\n",
      "ORGANIZATION: 4345\n",
      "NUMBER: 1421\n",
      "PRODUCT: 1337\n",
      "DATERANGE: 3229\n",
      "TIME: 59\n",
      "DATE: 1062\n",
      "DURATION: 620\n",
      "AGE: 232\n",
      "TIMERANGE: 65\n",
      "CURRENCY: 379\n",
      "ADDRESS: 205\n",
      "SET: 126\n",
      "PERCENTAGE: 264\n",
      "DATETIMERANGE: 45\n",
      "NUM_RANGE: 24\n"
     ]
    }
   ],
   "source": [
    "stats = dataset_stats(dev)\n",
    "print(len(stats['examples_with_type']['PERSON']), \"Examples with a PERSON label.\")\n",
    "print(\"Examples with Label\")\n",
    "for k, v in stats['examples_with_type'].items():\n",
    "    print(f\"{k}: {len(v)}\")"
   ]
  },
  {
   "cell_type": "code",
   "execution_count": 30,
   "metadata": {},
   "outputs": [],
   "source": [
    "#export\n",
    "def ents_by_label(data: List[Dict[str, object]]):\n",
    "    \"\"\"Get a dictionary of unique text spans by label for your data\"\"\"\n",
    "    annotations = defaultdict(set)\n",
    "\n",
    "    for e in data:\n",
    "        for s in e['spans']:\n",
    "            lower_text = s.get('text', e['text'][s['start']:s['end']])\n",
    "            annotations[s['label']].add(lower_text)\n",
    "            \n",
    "    for label in annotations.keys():\n",
    "        annotations[label] = sorted(annotations[label])\n",
    "        \n",
    "    return annotations"
   ]
  },
  {
   "cell_type": "markdown",
   "metadata": {},
   "source": [
    "This function creates a dictionary of the unique text spans by label for your dataset."
   ]
  },
  {
   "cell_type": "code",
   "execution_count": 36,
   "metadata": {},
   "outputs": [
    {
     "data": {
      "text/plain": [
       "['1,500-year-old',\n",
       " '11',\n",
       " '11-year-old',\n",
       " '12-year-old',\n",
       " '13 years old',\n",
       " '15',\n",
       " '15-36 months old',\n",
       " '15-year old',\n",
       " '150-year-old',\n",
       " '16',\n",
       " '16 years',\n",
       " '17',\n",
       " '18',\n",
       " '18 years',\n",
       " '18 years of age',\n",
       " '2 years',\n",
       " '2 years of age',\n",
       " '2-year-old',\n",
       " '21-year-old',\n",
       " '23',\n",
       " '23-year-old',\n",
       " '24',\n",
       " '26',\n",
       " '27 years old',\n",
       " '29',\n",
       " '30-year-old',\n",
       " '33',\n",
       " '35',\n",
       " '37',\n",
       " '38',\n",
       " '40',\n",
       " '40-year-old',\n",
       " '40s',\n",
       " '42',\n",
       " '45',\n",
       " '47',\n",
       " '48',\n",
       " '50s',\n",
       " '52',\n",
       " '53',\n",
       " '54-year-old',\n",
       " '60',\n",
       " '600 to 1,000 years old',\n",
       " '61-year old',\n",
       " '65',\n",
       " '65 years',\n",
       " '66',\n",
       " '70',\n",
       " '70 years',\n",
       " '71-year-old',\n",
       " '72-year-old',\n",
       " '73-year-old',\n",
       " '75',\n",
       " '8-year-old',\n",
       " '82-year-old',\n",
       " '84-year-old',\n",
       " '88-year-old',\n",
       " '90',\n",
       " 'AGE 26',\n",
       " 'age of 7',\n",
       " 'age three',\n",
       " 'ages 18-49',\n",
       " 'computer',\n",
       " 'early 20s',\n",
       " 'early 50s',\n",
       " 'five-year-old',\n",
       " 'over 70',\n",
       " 'six-year-old',\n",
       " 'teenage',\n",
       " 'twenty',\n",
       " 'under 35',\n",
       " 'year-old']"
      ]
     },
     "execution_count": 36,
     "metadata": {},
     "output_type": "execute_result"
    }
   ],
   "source": [
    "ents_by_label(test)['AGE']"
   ]
  },
  {
   "cell_type": "code",
   "execution_count": 32,
   "metadata": {},
   "outputs": [],
   "source": [
    "#export\n",
    "def get_label_disparities(data: List[Dict[str, object]], label1: str, label2: str):\n",
    "    \"\"\"Identify annotated spans that have different labels in different examples\"\"\"\n",
    "    annotations = ents_by_label(data)\n",
    "    if label1 and label2:\n",
    "        return set(annotations[label1]).intersection(set(annotations[label2]))"
   ]
  },
  {
   "cell_type": "code",
   "execution_count": 34,
   "metadata": {},
   "outputs": [
    {
     "data": {
      "text/plain": [
       "{'11',\n",
       " '15',\n",
       " '16',\n",
       " '17',\n",
       " '18',\n",
       " '23',\n",
       " '24',\n",
       " '29',\n",
       " '33',\n",
       " '35',\n",
       " '37',\n",
       " '38',\n",
       " '40',\n",
       " '42',\n",
       " '47',\n",
       " '48',\n",
       " '52',\n",
       " '60',\n",
       " '66',\n",
       " '70',\n",
       " '75',\n",
       " '90'}"
      ]
     },
     "execution_count": 34,
     "metadata": {},
     "output_type": "execute_result"
    }
   ],
   "source": [
    "get_label_disparities(test, \"NUMBER\", \"AGE\")"
   ]
  },
  {
   "cell_type": "code",
   "execution_count": 38,
   "metadata": {},
   "outputs": [
    {
     "name": "stdout",
     "output_type": "stream",
     "text": [
      "Converted 00_core.ipynb.\n",
      "Converted index.ipynb.\n"
     ]
    }
   ],
   "source": [
    "#hide\n",
    "from nbdev.export import *\n",
    "notebook2script()"
   ]
  },
  {
   "cell_type": "code",
   "execution_count": null,
   "metadata": {},
   "outputs": [],
   "source": []
  }
 ],
 "metadata": {
  "kernelspec": {
   "display_name": "Python 3",
   "language": "python",
   "name": "python3"
  },
  "language_info": {
   "codemirror_mode": {
    "name": "ipython",
    "version": 3
   },
   "file_extension": ".py",
   "mimetype": "text/x-python",
   "name": "python",
   "nbconvert_exporter": "python",
   "pygments_lexer": "ipython3",
   "version": "3.6.8"
  }
 },
 "nbformat": 4,
 "nbformat_minor": 4
}
