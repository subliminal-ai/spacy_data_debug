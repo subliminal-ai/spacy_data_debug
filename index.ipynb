{
 "cells": [
  {
   "cell_type": "code",
   "execution_count": null,
   "metadata": {},
   "outputs": [],
   "source": [
    "#hide\n",
    "from your_lib.core import *"
   ]
  },
  {
   "cell_type": "markdown",
   "metadata": {},
   "source": [
    "# spaCy Data Debug\n",
    "\n",
    "> spaCy Data Debug has utilities to help you debug your custom NER data. It checks for inconsistencies in labels for the same text, \n"
   ]
  },
  {
   "cell_type": "markdown",
   "metadata": {},
   "source": [
    "This file will become your README and also the index of your documentation."
   ]
  },
  {
   "cell_type": "markdown",
   "metadata": {},
   "source": [
    "## Install"
   ]
  },
  {
   "cell_type": "markdown",
   "metadata": {},
   "source": [
    "`pip install spacy-data-debug`"
   ]
  },
  {
   "cell_type": "markdown",
   "metadata": {},
   "source": [
    "## How to use"
   ]
  },
  {
   "cell_type": "code",
   "execution_count": 7,
   "metadata": {},
   "outputs": [],
   "source": [
    "import srsly\n",
    "from spacy_data_debug.core import *"
   ]
  },
  {
   "cell_type": "markdown",
   "metadata": {},
   "source": [
    "### 0. Load your Data in the Prodigy Annotation Format"
   ]
  },
  {
   "cell_type": "code",
   "execution_count": 8,
   "metadata": {},
   "outputs": [],
   "source": [
    "train = list(srsly.read_jsonl(\"../CognitiveServices/API-TextAnalytics-NER.CloudServices/data/2020-01-23/cs_train.jsonl\"))\n",
    "dev = list(srsly.read_jsonl(\"../CognitiveServices/API-TextAnalytics-NER.CloudServices/data/2020-01-23/cs_dev.jsonl\"))\n",
    "test = list(srsly.read_jsonl(\"../CognitiveServices/API-TextAnalytics-NER.CloudServices/data/2020-01-23/cs_test.jsonl\"))"
   ]
  },
  {
   "cell_type": "markdown",
   "metadata": {},
   "source": [
    "### Fix Annotations Formatting\n",
    "While working on a large annotation projects the format of your data can get weird from different annotation sessions by different people.\n",
    "This ensures you have data in a format useful for the other functions in this `spacy-data-debug`"
   ]
  },
  {
   "cell_type": "code",
   "execution_count": null,
   "metadata": {},
   "outputs": [],
   "source": [
    "fix_annotations_format(train)"
   ]
  }
 ],
 "metadata": {
  "kernelspec": {
   "display_name": "Python 3",
   "language": "python",
   "name": "python3"
  },
  "language_info": {
   "codemirror_mode": {
    "name": "ipython",
    "version": 3
   },
   "file_extension": ".py",
   "mimetype": "text/x-python",
   "name": "python",
   "nbconvert_exporter": "python",
   "pygments_lexer": "ipython3",
   "version": "3.6.8"
  }
 },
 "nbformat": 4,
 "nbformat_minor": 4
}
